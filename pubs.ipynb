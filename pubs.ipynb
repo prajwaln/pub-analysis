{
  "nbformat": 4,
  "nbformat_minor": 0,
  "metadata": {
    "colab": {
      "name": "pubs.ipynb",
      "provenance": [],
      "collapsed_sections": []
    },
    "kernelspec": {
      "name": "python3",
      "display_name": "Python 3"
    }
  },
  "cells": [
    {
      "cell_type": "markdown",
      "metadata": {
        "id": "BvHebPaKcUk8",
        "colab_type": "text"
      },
      "source": [
        "# **Setup**"
      ]
    },
    {
      "cell_type": "markdown",
      "metadata": {
        "id": "Agvqj-UMWEnf",
        "colab_type": "text"
      },
      "source": [
        "*Upload the given csv file here:*"
      ]
    },
    {
      "cell_type": "code",
      "metadata": {
        "id": "Y6MNK9c7eW7T",
        "colab_type": "code",
        "outputId": "8d44b547-f5c8-45b5-b163-9ce11de77488",
        "colab": {
          "resources": {
            "http://localhost:8080/nbextensions/google.colab/files.js": {
              "data": "Ly8gQ29weXJpZ2h0IDIwMTcgR29vZ2xlIExMQwovLwovLyBMaWNlbnNlZCB1bmRlciB0aGUgQXBhY2hlIExpY2Vuc2UsIFZlcnNpb24gMi4wICh0aGUgIkxpY2Vuc2UiKTsKLy8geW91IG1heSBub3QgdXNlIHRoaXMgZmlsZSBleGNlcHQgaW4gY29tcGxpYW5jZSB3aXRoIHRoZSBMaWNlbnNlLgovLyBZb3UgbWF5IG9idGFpbiBhIGNvcHkgb2YgdGhlIExpY2Vuc2UgYXQKLy8KLy8gICAgICBodHRwOi8vd3d3LmFwYWNoZS5vcmcvbGljZW5zZXMvTElDRU5TRS0yLjAKLy8KLy8gVW5sZXNzIHJlcXVpcmVkIGJ5IGFwcGxpY2FibGUgbGF3IG9yIGFncmVlZCB0byBpbiB3cml0aW5nLCBzb2Z0d2FyZQovLyBkaXN0cmlidXRlZCB1bmRlciB0aGUgTGljZW5zZSBpcyBkaXN0cmlidXRlZCBvbiBhbiAiQVMgSVMiIEJBU0lTLAovLyBXSVRIT1VUIFdBUlJBTlRJRVMgT1IgQ09ORElUSU9OUyBPRiBBTlkgS0lORCwgZWl0aGVyIGV4cHJlc3Mgb3IgaW1wbGllZC4KLy8gU2VlIHRoZSBMaWNlbnNlIGZvciB0aGUgc3BlY2lmaWMgbGFuZ3VhZ2UgZ292ZXJuaW5nIHBlcm1pc3Npb25zIGFuZAovLyBsaW1pdGF0aW9ucyB1bmRlciB0aGUgTGljZW5zZS4KCi8qKgogKiBAZmlsZW92ZXJ2aWV3IEhlbHBlcnMgZm9yIGdvb2dsZS5jb2xhYiBQeXRob24gbW9kdWxlLgogKi8KKGZ1bmN0aW9uKHNjb3BlKSB7CmZ1bmN0aW9uIHNwYW4odGV4dCwgc3R5bGVBdHRyaWJ1dGVzID0ge30pIHsKICBjb25zdCBlbGVtZW50ID0gZG9jdW1lbnQuY3JlYXRlRWxlbWVudCgnc3BhbicpOwogIGVsZW1lbnQudGV4dENvbnRlbnQgPSB0ZXh0OwogIGZvciAoY29uc3Qga2V5IG9mIE9iamVjdC5rZXlzKHN0eWxlQXR0cmlidXRlcykpIHsKICAgIGVsZW1lbnQuc3R5bGVba2V5XSA9IHN0eWxlQXR0cmlidXRlc1trZXldOwogIH0KICByZXR1cm4gZWxlbWVudDsKfQoKLy8gTWF4IG51bWJlciBvZiBieXRlcyB3aGljaCB3aWxsIGJlIHVwbG9hZGVkIGF0IGEgdGltZS4KY29uc3QgTUFYX1BBWUxPQURfU0laRSA9IDEwMCAqIDEwMjQ7Ci8vIE1heCBhbW91bnQgb2YgdGltZSB0byBibG9jayB3YWl0aW5nIGZvciB0aGUgdXNlci4KY29uc3QgRklMRV9DSEFOR0VfVElNRU9VVF9NUyA9IDMwICogMTAwMDsKCmZ1bmN0aW9uIF91cGxvYWRGaWxlcyhpbnB1dElkLCBvdXRwdXRJZCkgewogIGNvbnN0IHN0ZXBzID0gdXBsb2FkRmlsZXNTdGVwKGlucHV0SWQsIG91dHB1dElkKTsKICBjb25zdCBvdXRwdXRFbGVtZW50ID0gZG9jdW1lbnQuZ2V0RWxlbWVudEJ5SWQob3V0cHV0SWQpOwogIC8vIENhY2hlIHN0ZXBzIG9uIHRoZSBvdXRwdXRFbGVtZW50IHRvIG1ha2UgaXQgYXZhaWxhYmxlIGZvciB0aGUgbmV4dCBjYWxsCiAgLy8gdG8gdXBsb2FkRmlsZXNDb250aW51ZSBmcm9tIFB5dGhvbi4KICBvdXRwdXRFbGVtZW50LnN0ZXBzID0gc3RlcHM7CgogIHJldHVybiBfdXBsb2FkRmlsZXNDb250aW51ZShvdXRwdXRJZCk7Cn0KCi8vIFRoaXMgaXMgcm91Z2hseSBhbiBhc3luYyBnZW5lcmF0b3IgKG5vdCBzdXBwb3J0ZWQgaW4gdGhlIGJyb3dzZXIgeWV0KSwKLy8gd2hlcmUgdGhlcmUgYXJlIG11bHRpcGxlIGFzeW5jaHJvbm91cyBzdGVwcyBhbmQgdGhlIFB5dGhvbiBzaWRlIGlzIGdvaW5nCi8vIHRvIHBvbGwgZm9yIGNvbXBsZXRpb24gb2YgZWFjaCBzdGVwLgovLyBUaGlzIHVzZXMgYSBQcm9taXNlIHRvIGJsb2NrIHRoZSBweXRob24gc2lkZSBvbiBjb21wbGV0aW9uIG9mIGVhY2ggc3RlcCwKLy8gdGhlbiBwYXNzZXMgdGhlIHJlc3VsdCBvZiB0aGUgcHJldmlvdXMgc3RlcCBhcyB0aGUgaW5wdXQgdG8gdGhlIG5leHQgc3RlcC4KZnVuY3Rpb24gX3VwbG9hZEZpbGVzQ29udGludWUob3V0cHV0SWQpIHsKICBjb25zdCBvdXRwdXRFbGVtZW50ID0gZG9jdW1lbnQuZ2V0RWxlbWVudEJ5SWQob3V0cHV0SWQpOwogIGNvbnN0IHN0ZXBzID0gb3V0cHV0RWxlbWVudC5zdGVwczsKCiAgY29uc3QgbmV4dCA9IHN0ZXBzLm5leHQob3V0cHV0RWxlbWVudC5sYXN0UHJvbWlzZVZhbHVlKTsKICByZXR1cm4gUHJvbWlzZS5yZXNvbHZlKG5leHQudmFsdWUucHJvbWlzZSkudGhlbigodmFsdWUpID0+IHsKICAgIC8vIENhY2hlIHRoZSBsYXN0IHByb21pc2UgdmFsdWUgdG8gbWFrZSBpdCBhdmFpbGFibGUgdG8gdGhlIG5leHQKICAgIC8vIHN0ZXAgb2YgdGhlIGdlbmVyYXRvci4KICAgIG91dHB1dEVsZW1lbnQubGFzdFByb21pc2VWYWx1ZSA9IHZhbHVlOwogICAgcmV0dXJuIG5leHQudmFsdWUucmVzcG9uc2U7CiAgfSk7Cn0KCi8qKgogKiBHZW5lcmF0b3IgZnVuY3Rpb24gd2hpY2ggaXMgY2FsbGVkIGJldHdlZW4gZWFjaCBhc3luYyBzdGVwIG9mIHRoZSB1cGxvYWQKICogcHJvY2Vzcy4KICogQHBhcmFtIHtzdHJpbmd9IGlucHV0SWQgRWxlbWVudCBJRCBvZiB0aGUgaW5wdXQgZmlsZSBwaWNrZXIgZWxlbWVudC4KICogQHBhcmFtIHtzdHJpbmd9IG91dHB1dElkIEVsZW1lbnQgSUQgb2YgdGhlIG91dHB1dCBkaXNwbGF5LgogKiBAcmV0dXJuIHshSXRlcmFibGU8IU9iamVjdD59IEl0ZXJhYmxlIG9mIG5leHQgc3RlcHMuCiAqLwpmdW5jdGlvbiogdXBsb2FkRmlsZXNTdGVwKGlucHV0SWQsIG91dHB1dElkKSB7CiAgY29uc3QgaW5wdXRFbGVtZW50ID0gZG9jdW1lbnQuZ2V0RWxlbWVudEJ5SWQoaW5wdXRJZCk7CiAgaW5wdXRFbGVtZW50LmRpc2FibGVkID0gZmFsc2U7CgogIGNvbnN0IG91dHB1dEVsZW1lbnQgPSBkb2N1bWVudC5nZXRFbGVtZW50QnlJZChvdXRwdXRJZCk7CiAgb3V0cHV0RWxlbWVudC5pbm5lckhUTUwgPSAnJzsKCiAgY29uc3QgcGlja2VkUHJvbWlzZSA9IG5ldyBQcm9taXNlKChyZXNvbHZlKSA9PiB7CiAgICBpbnB1dEVsZW1lbnQuYWRkRXZlbnRMaXN0ZW5lcignY2hhbmdlJywgKGUpID0+IHsKICAgICAgcmVzb2x2ZShlLnRhcmdldC5maWxlcyk7CiAgICB9KTsKICB9KTsKCiAgY29uc3QgY2FuY2VsID0gZG9jdW1lbnQuY3JlYXRlRWxlbWVudCgnYnV0dG9uJyk7CiAgaW5wdXRFbGVtZW50LnBhcmVudEVsZW1lbnQuYXBwZW5kQ2hpbGQoY2FuY2VsKTsKICBjYW5jZWwudGV4dENvbnRlbnQgPSAnQ2FuY2VsIHVwbG9hZCc7CiAgY29uc3QgY2FuY2VsUHJvbWlzZSA9IG5ldyBQcm9taXNlKChyZXNvbHZlKSA9PiB7CiAgICBjYW5jZWwub25jbGljayA9ICgpID0+IHsKICAgICAgcmVzb2x2ZShudWxsKTsKICAgIH07CiAgfSk7CgogIC8vIENhbmNlbCB1cGxvYWQgaWYgdXNlciBoYXNuJ3QgcGlja2VkIGFueXRoaW5nIGluIHRpbWVvdXQuCiAgY29uc3QgdGltZW91dFByb21pc2UgPSBuZXcgUHJvbWlzZSgocmVzb2x2ZSkgPT4gewogICAgc2V0VGltZW91dCgoKSA9PiB7CiAgICAgIHJlc29sdmUobnVsbCk7CiAgICB9LCBGSUxFX0NIQU5HRV9USU1FT1VUX01TKTsKICB9KTsKCiAgLy8gV2FpdCBmb3IgdGhlIHVzZXIgdG8gcGljayB0aGUgZmlsZXMuCiAgY29uc3QgZmlsZXMgPSB5aWVsZCB7CiAgICBwcm9taXNlOiBQcm9taXNlLnJhY2UoW3BpY2tlZFByb21pc2UsIHRpbWVvdXRQcm9taXNlLCBjYW5jZWxQcm9taXNlXSksCiAgICByZXNwb25zZTogewogICAgICBhY3Rpb246ICdzdGFydGluZycsCiAgICB9CiAgfTsKCiAgaWYgKCFmaWxlcykgewogICAgcmV0dXJuIHsKICAgICAgcmVzcG9uc2U6IHsKICAgICAgICBhY3Rpb246ICdjb21wbGV0ZScsCiAgICAgIH0KICAgIH07CiAgfQoKICBjYW5jZWwucmVtb3ZlKCk7CgogIC8vIERpc2FibGUgdGhlIGlucHV0IGVsZW1lbnQgc2luY2UgZnVydGhlciBwaWNrcyBhcmUgbm90IGFsbG93ZWQuCiAgaW5wdXRFbGVtZW50LmRpc2FibGVkID0gdHJ1ZTsKCiAgZm9yIChjb25zdCBmaWxlIG9mIGZpbGVzKSB7CiAgICBjb25zdCBsaSA9IGRvY3VtZW50LmNyZWF0ZUVsZW1lbnQoJ2xpJyk7CiAgICBsaS5hcHBlbmQoc3BhbihmaWxlLm5hbWUsIHtmb250V2VpZ2h0OiAnYm9sZCd9KSk7CiAgICBsaS5hcHBlbmQoc3BhbigKICAgICAgICBgKCR7ZmlsZS50eXBlIHx8ICduL2EnfSkgLSAke2ZpbGUuc2l6ZX0gYnl0ZXMsIGAgKwogICAgICAgIGBsYXN0IG1vZGlmaWVkOiAkewogICAgICAgICAgICBmaWxlLmxhc3RNb2RpZmllZERhdGUgPyBmaWxlLmxhc3RNb2RpZmllZERhdGUudG9Mb2NhbGVEYXRlU3RyaW5nKCkgOgogICAgICAgICAgICAgICAgICAgICAgICAgICAgICAgICAgICAnbi9hJ30gLSBgKSk7CiAgICBjb25zdCBwZXJjZW50ID0gc3BhbignMCUgZG9uZScpOwogICAgbGkuYXBwZW5kQ2hpbGQocGVyY2VudCk7CgogICAgb3V0cHV0RWxlbWVudC5hcHBlbmRDaGlsZChsaSk7CgogICAgY29uc3QgZmlsZURhdGFQcm9taXNlID0gbmV3IFByb21pc2UoKHJlc29sdmUpID0+IHsKICAgICAgY29uc3QgcmVhZGVyID0gbmV3IEZpbGVSZWFkZXIoKTsKICAgICAgcmVhZGVyLm9ubG9hZCA9IChlKSA9PiB7CiAgICAgICAgcmVzb2x2ZShlLnRhcmdldC5yZXN1bHQpOwogICAgICB9OwogICAgICByZWFkZXIucmVhZEFzQXJyYXlCdWZmZXIoZmlsZSk7CiAgICB9KTsKICAgIC8vIFdhaXQgZm9yIHRoZSBkYXRhIHRvIGJlIHJlYWR5LgogICAgbGV0IGZpbGVEYXRhID0geWllbGQgewogICAgICBwcm9taXNlOiBmaWxlRGF0YVByb21pc2UsCiAgICAgIHJlc3BvbnNlOiB7CiAgICAgICAgYWN0aW9uOiAnY29udGludWUnLAogICAgICB9CiAgICB9OwoKICAgIC8vIFVzZSBhIGNodW5rZWQgc2VuZGluZyB0byBhdm9pZCBtZXNzYWdlIHNpemUgbGltaXRzLiBTZWUgYi82MjExNTY2MC4KICAgIGxldCBwb3NpdGlvbiA9IDA7CiAgICB3aGlsZSAocG9zaXRpb24gPCBmaWxlRGF0YS5ieXRlTGVuZ3RoKSB7CiAgICAgIGNvbnN0IGxlbmd0aCA9IE1hdGgubWluKGZpbGVEYXRhLmJ5dGVMZW5ndGggLSBwb3NpdGlvbiwgTUFYX1BBWUxPQURfU0laRSk7CiAgICAgIGNvbnN0IGNodW5rID0gbmV3IFVpbnQ4QXJyYXkoZmlsZURhdGEsIHBvc2l0aW9uLCBsZW5ndGgpOwogICAgICBwb3NpdGlvbiArPSBsZW5ndGg7CgogICAgICBjb25zdCBiYXNlNjQgPSBidG9hKFN0cmluZy5mcm9tQ2hhckNvZGUuYXBwbHkobnVsbCwgY2h1bmspKTsKICAgICAgeWllbGQgewogICAgICAgIHJlc3BvbnNlOiB7CiAgICAgICAgICBhY3Rpb246ICdhcHBlbmQnLAogICAgICAgICAgZmlsZTogZmlsZS5uYW1lLAogICAgICAgICAgZGF0YTogYmFzZTY0LAogICAgICAgIH0sCiAgICAgIH07CiAgICAgIHBlcmNlbnQudGV4dENvbnRlbnQgPQogICAgICAgICAgYCR7TWF0aC5yb3VuZCgocG9zaXRpb24gLyBmaWxlRGF0YS5ieXRlTGVuZ3RoKSAqIDEwMCl9JSBkb25lYDsKICAgIH0KICB9CgogIC8vIEFsbCBkb25lLgogIHlpZWxkIHsKICAgIHJlc3BvbnNlOiB7CiAgICAgIGFjdGlvbjogJ2NvbXBsZXRlJywKICAgIH0KICB9Owp9CgpzY29wZS5nb29nbGUgPSBzY29wZS5nb29nbGUgfHwge307CnNjb3BlLmdvb2dsZS5jb2xhYiA9IHNjb3BlLmdvb2dsZS5jb2xhYiB8fCB7fTsKc2NvcGUuZ29vZ2xlLmNvbGFiLl9maWxlcyA9IHsKICBfdXBsb2FkRmlsZXMsCiAgX3VwbG9hZEZpbGVzQ29udGludWUsCn07Cn0pKHNlbGYpOwo=",
              "ok": true,
              "headers": [
                [
                  "content-type",
                  "application/javascript"
                ]
              ],
              "status": 200,
              "status_text": ""
            }
          },
          "base_uri": "https://localhost:8080/",
          "height": 74
        }
      },
      "source": [
        "from google.colab import files\n",
        "files.upload()"
      ],
      "execution_count": 0,
      "outputs": [
        {
          "output_type": "display_data",
          "data": {
            "text/html": [
              "\n",
              "     <input type=\"file\" id=\"files-330b134e-57ca-45cf-9fce-d6f9605a4fd5\" name=\"files[]\" multiple disabled />\n",
              "     <output id=\"result-330b134e-57ca-45cf-9fce-d6f9605a4fd5\">\n",
              "      Upload widget is only available when the cell has been executed in the\n",
              "      current browser session. Please rerun this cell to enable.\n",
              "      </output>\n",
              "      <script src=\"/nbextensions/google.colab/files.js\"></script> "
            ],
            "text/plain": [
              "<IPython.core.display.HTML object>"
            ]
          },
          "metadata": {
            "tags": []
          }
        },
        {
          "output_type": "stream",
          "text": [
            "Saving pubs_in_england.csv to pubs_in_england.csv\n"
          ],
          "name": "stdout"
        }
      ]
    },
    {
      "cell_type": "markdown",
      "metadata": {
        "id": "Y1I4KDFWWTF7",
        "colab_type": "text"
      },
      "source": [
        "*Package Installations:*"
      ]
    },
    {
      "cell_type": "code",
      "metadata": {
        "id": "u8pQXeD7c_Lz",
        "colab_type": "code",
        "colab": {}
      },
      "source": [
        "!apt-get install openjdk-8-jdk-headless -qq > /dev/null\n",
        "!wget -q https://www-us.apache.org/dist/spark/spark-2.4.5/spark-2.4.5-bin-hadoop2.7.tgz\n",
        "!tar xf spark-2.4.5-bin-hadoop2.7.tgz\n",
        "!pip install -q findspark"
      ],
      "execution_count": 0,
      "outputs": []
    },
    {
      "cell_type": "markdown",
      "metadata": {
        "id": "aaGkEPhYWk-H",
        "colab_type": "text"
      },
      "source": [
        "*Environment Setup:*"
      ]
    },
    {
      "cell_type": "code",
      "metadata": {
        "id": "IsAhyQUkdQKQ",
        "colab_type": "code",
        "colab": {}
      },
      "source": [
        "import os\n",
        "os.environ[\"JAVA_HOME\"] = \"/usr/lib/jvm/java-8-openjdk-amd64\"\n",
        "os.environ[\"SPARK_HOME\"] = \"/content/spark-2.4.5-bin-hadoop2.7\""
      ],
      "execution_count": 0,
      "outputs": []
    },
    {
      "cell_type": "code",
      "metadata": {
        "id": "BxLTVtI0daIp",
        "colab_type": "code",
        "colab": {}
      },
      "source": [
        "import findspark\n",
        "findspark.init()\n",
        "from pyspark.sql import SparkSession\n",
        "spark = SparkSession.builder.master(\"local[*]\").getOrCreate()"
      ],
      "execution_count": 0,
      "outputs": []
    },
    {
      "cell_type": "code",
      "metadata": {
        "id": "qzSrkEXFeIvE",
        "colab_type": "code",
        "outputId": "370d30de-ab5e-4af5-ee32-c5b7124886ed",
        "colab": {
          "base_uri": "https://localhost:8080/",
          "height": 216
        }
      },
      "source": [
        "spark"
      ],
      "execution_count": 0,
      "outputs": [
        {
          "output_type": "execute_result",
          "data": {
            "text/html": [
              "\n",
              "            <div>\n",
              "                <p><b>SparkSession - in-memory</b></p>\n",
              "                \n",
              "        <div>\n",
              "            <p><b>SparkContext</b></p>\n",
              "\n",
              "            <p><a href=\"http://2c74b7adfc40:4040\">Spark UI</a></p>\n",
              "\n",
              "            <dl>\n",
              "              <dt>Version</dt>\n",
              "                <dd><code>v2.4.5</code></dd>\n",
              "              <dt>Master</dt>\n",
              "                <dd><code>local[*]</code></dd>\n",
              "              <dt>AppName</dt>\n",
              "                <dd><code>pyspark-shell</code></dd>\n",
              "            </dl>\n",
              "        </div>\n",
              "        \n",
              "            </div>\n",
              "        "
            ],
            "text/plain": [
              "<pyspark.sql.session.SparkSession at 0x7f25db459d30>"
            ]
          },
          "metadata": {
            "tags": []
          },
          "execution_count": 7
        }
      ]
    },
    {
      "cell_type": "markdown",
      "metadata": {
        "id": "aBu0xa64XTRO",
        "colab_type": "text"
      },
      "source": [
        "## **Import the csv file contents**"
      ]
    },
    {
      "cell_type": "code",
      "metadata": {
        "id": "0ASRngoqiiar",
        "colab_type": "code",
        "colab": {}
      },
      "source": [
        "import pyspark.sql.functions as sf\n",
        "from pyspark.sql.types import *\n",
        "\n",
        "# Defining the schema based on given description\n",
        "schema = StructType([\n",
        "    StructField(\"fsa_id\", IntegerType()),\n",
        "    StructField(\"name\", StringType()),\n",
        "    StructField(\"address\", StringType()),\n",
        "    StructField(\"postcode\", StringType()),\n",
        "    StructField(\"easting\", IntegerType()),\n",
        "    StructField(\"northing\", IntegerType()),\n",
        "    StructField(\"latitude\", DoubleType()),\n",
        "    StructField(\"longitude\", DoubleType()),\n",
        "    StructField(\"local_authority\", StringType())    \n",
        "    ])\n",
        "\n",
        "dataset = spark.read.csv(\"pubs_in_england.csv\", header = True, schema=schema, \\\n",
        "                         mode = 'DROPMALFORMED')\n"
      ],
      "execution_count": 0,
      "outputs": []
    },
    {
      "cell_type": "markdown",
      "metadata": {
        "id": "fetzdnu5n1ZM",
        "colab_type": "text"
      },
      "source": [
        "*Reading data and checking number of records:*"
      ]
    },
    {
      "cell_type": "code",
      "metadata": {
        "id": "U7SP_KGSkGoe",
        "colab_type": "code",
        "outputId": "2804e9e6-1664-4c2a-cbbf-3a52ca6ba733",
        "colab": {
          "base_uri": "https://localhost:8080/",
          "height": 221
        }
      },
      "source": [
        "dataset.show(5)\n",
        "dataset.count()"
      ],
      "execution_count": 83,
      "outputs": [
        {
          "output_type": "stream",
          "text": [
            "+------+---------------+--------------------+--------+-------+--------+---------+---------+---------------+\n",
            "|fsa_id|           name|             address|postcode|easting|northing| latitude|longitude|local_authority|\n",
            "+------+---------------+--------------------+--------+-------+--------+---------+---------+---------------+\n",
            "|    24|     Anchor Inn|Upper Street, Str...| CO7 6LW| 604748|  234405| 51.97039| 0.979328|        Babergh|\n",
            "|    30|      Angel Inn|Egremont Street, ...|CO10 7SA| 582888|  247368|52.094427| 0.668408|        Babergh|\n",
            "|    63|Black Boy Hotel|7 Market Hill, SU...|CO10 2EA| 587356|  241327|52.038683| 0.730226|        Babergh|\n",
            "|    64|    Black Horse|Lower Street, Str...| CO7 6JS| 604270|  233920|51.966211| 0.972091|        Babergh|\n",
            "|    65|     Black Lion|Lion Road, Glemsf...|CO10 7RF| 582750|  248298|52.102815| 0.666893|        Babergh|\n",
            "+------+---------------+--------------------+--------+-------+--------+---------+---------+---------------+\n",
            "only showing top 5 rows\n",
            "\n"
          ],
          "name": "stdout"
        },
        {
          "output_type": "execute_result",
          "data": {
            "text/plain": [
              "51566"
            ]
          },
          "metadata": {
            "tags": []
          },
          "execution_count": 83
        }
      ]
    },
    {
      "cell_type": "markdown",
      "metadata": {
        "id": "lkpmrf4WX83m",
        "colab_type": "text"
      },
      "source": [
        "**Checking the schema and data statistics**"
      ]
    },
    {
      "cell_type": "code",
      "metadata": {
        "id": "_1ZYExRXejLS",
        "colab_type": "code",
        "outputId": "b7134819-b1b7-4781-8d63-71a23bb4efef",
        "colab": {
          "base_uri": "https://localhost:8080/",
          "height": 204
        }
      },
      "source": [
        "dataset.printSchema()"
      ],
      "execution_count": 84,
      "outputs": [
        {
          "output_type": "stream",
          "text": [
            "root\n",
            " |-- fsa_id: integer (nullable = true)\n",
            " |-- name: string (nullable = true)\n",
            " |-- address: string (nullable = true)\n",
            " |-- postcode: string (nullable = true)\n",
            " |-- easting: integer (nullable = true)\n",
            " |-- northing: integer (nullable = true)\n",
            " |-- latitude: double (nullable = true)\n",
            " |-- longitude: double (nullable = true)\n",
            " |-- local_authority: string (nullable = true)\n",
            "\n"
          ],
          "name": "stdout"
        }
      ]
    },
    {
      "cell_type": "code",
      "metadata": {
        "id": "VqrKKJONukXO",
        "colab_type": "code",
        "outputId": "8f61c6c2-38ad-47da-ddda-de9b99a2ee77",
        "colab": {
          "base_uri": "https://localhost:8080/",
          "height": 187
        }
      },
      "source": [
        "dataset.describe().show()"
      ],
      "execution_count": 85,
      "outputs": [
        {
          "output_type": "stream",
          "text": [
            "+-------+------------------+----------------+--------------------+--------+------------------+------------------+------------------+-------------------+---------------+\n",
            "|summary|            fsa_id|            name|             address|postcode|           easting|          northing|          latitude|          longitude|local_authority|\n",
            "+-------+------------------+----------------+--------------------+--------+------------------+------------------+------------------+-------------------+---------------+\n",
            "|  count|             51494|           51494|               51494|   51494|             51494|             51494|             51494|              51494|          51494|\n",
            "|   mean|257687.77865382374|          518.75|                null|    null|425726.03792674874| 315053.4275061172|52.723645153513274|-1.6370478585854669|           null|\n",
            "| stddev|146752.26052595043|936.482203069907|                null|    null| 97740.61607377358|166810.32438424518|1.5020463529539323|  1.436843719115415|           null|\n",
            "|    min|                24|          #NAME?|'within Media Ent...|AB10 1AS|             78110|              8196|         49.892485|          -7.384525|  Aberdeen City|\n",
            "|    max|            514817|    vivID lounge|within University...| YO8 9JL|            655277|           1030836|         59.162003|           1.757913|           York|\n",
            "+-------+------------------+----------------+--------------------+--------+------------------+------------------+------------------+-------------------+---------------+\n",
            "\n"
          ],
          "name": "stdout"
        }
      ]
    },
    {
      "cell_type": "markdown",
      "metadata": {
        "id": "fwc3AjNGch7d",
        "colab_type": "text"
      },
      "source": [
        "We can see that the count here is **51494** which is lesser than the total number of rows in the given CSV file, which means there were **72** rows not conforming to the schema, so we need to clean it:"
      ]
    },
    {
      "cell_type": "code",
      "metadata": {
        "id": "Z0i9ZXPzdYp0",
        "colab_type": "code",
        "colab": {
          "base_uri": "https://localhost:8080/",
          "height": 51
        },
        "outputId": "fbe548d1-8fe3-4436-a9da-04875ea622fc"
      },
      "source": [
        "print(\"Initial count:\", dataset.count())\n",
        "dataset = dataset.dropna()\n",
        "print(\"Cleaned count:\", dataset.count())"
      ],
      "execution_count": 52,
      "outputs": [
        {
          "output_type": "stream",
          "text": [
            "Initial count: 51566\n",
            "Cleaned count: 51494\n"
          ],
          "name": "stdout"
        }
      ]
    },
    {
      "cell_type": "markdown",
      "metadata": {
        "id": "4WdGoeEDXEGk",
        "colab_type": "text"
      },
      "source": [
        "**Checking data for any missing / duplicate entries**"
      ]
    },
    {
      "cell_type": "code",
      "metadata": {
        "id": "6jNfcAQAZAYI",
        "colab_type": "code",
        "colab": {
          "base_uri": "https://localhost:8080/",
          "height": 782
        },
        "outputId": "6a02feb3-69f4-4b40-abb5-414a9e8f04ba"
      },
      "source": [
        "dataset.filter(dataset.fsa_id == '').show()\n",
        "dataset.filter(dataset.name == '').show()\n",
        "dataset.filter(dataset.address == '').show()\n",
        "dataset.filter(dataset.postcode == '').show()\n",
        "dataset.filter(dataset.easting == '').show()\n",
        "dataset.filter(dataset.northing == '').show()\n",
        "dataset.filter(dataset.latitude == '').show()\n",
        "dataset.filter(dataset.longitude == '').show()\n",
        "dataset.filter(dataset.local_authority == '').show()"
      ],
      "execution_count": 46,
      "outputs": [
        {
          "output_type": "stream",
          "text": [
            "+------+----+-------+--------+-------+--------+--------+---------+---------------+\n",
            "|fsa_id|name|address|postcode|easting|northing|latitude|longitude|local_authority|\n",
            "+------+----+-------+--------+-------+--------+--------+---------+---------------+\n",
            "+------+----+-------+--------+-------+--------+--------+---------+---------------+\n",
            "\n",
            "+------+----+-------+--------+-------+--------+--------+---------+---------------+\n",
            "|fsa_id|name|address|postcode|easting|northing|latitude|longitude|local_authority|\n",
            "+------+----+-------+--------+-------+--------+--------+---------+---------------+\n",
            "+------+----+-------+--------+-------+--------+--------+---------+---------------+\n",
            "\n",
            "+------+----+-------+--------+-------+--------+--------+---------+---------------+\n",
            "|fsa_id|name|address|postcode|easting|northing|latitude|longitude|local_authority|\n",
            "+------+----+-------+--------+-------+--------+--------+---------+---------------+\n",
            "+------+----+-------+--------+-------+--------+--------+---------+---------------+\n",
            "\n",
            "+------+----+-------+--------+-------+--------+--------+---------+---------------+\n",
            "|fsa_id|name|address|postcode|easting|northing|latitude|longitude|local_authority|\n",
            "+------+----+-------+--------+-------+--------+--------+---------+---------------+\n",
            "+------+----+-------+--------+-------+--------+--------+---------+---------------+\n",
            "\n",
            "+------+----+-------+--------+-------+--------+--------+---------+---------------+\n",
            "|fsa_id|name|address|postcode|easting|northing|latitude|longitude|local_authority|\n",
            "+------+----+-------+--------+-------+--------+--------+---------+---------------+\n",
            "+------+----+-------+--------+-------+--------+--------+---------+---------------+\n",
            "\n",
            "+------+----+-------+--------+-------+--------+--------+---------+---------------+\n",
            "|fsa_id|name|address|postcode|easting|northing|latitude|longitude|local_authority|\n",
            "+------+----+-------+--------+-------+--------+--------+---------+---------------+\n",
            "+------+----+-------+--------+-------+--------+--------+---------+---------------+\n",
            "\n",
            "+------+----+-------+--------+-------+--------+--------+---------+---------------+\n",
            "|fsa_id|name|address|postcode|easting|northing|latitude|longitude|local_authority|\n",
            "+------+----+-------+--------+-------+--------+--------+---------+---------------+\n",
            "+------+----+-------+--------+-------+--------+--------+---------+---------------+\n",
            "\n",
            "+------+----+-------+--------+-------+--------+--------+---------+---------------+\n",
            "|fsa_id|name|address|postcode|easting|northing|latitude|longitude|local_authority|\n",
            "+------+----+-------+--------+-------+--------+--------+---------+---------------+\n",
            "+------+----+-------+--------+-------+--------+--------+---------+---------------+\n",
            "\n",
            "+------+----+-------+--------+-------+--------+--------+---------+---------------+\n",
            "|fsa_id|name|address|postcode|easting|northing|latitude|longitude|local_authority|\n",
            "+------+----+-------+--------+-------+--------+--------+---------+---------------+\n",
            "+------+----+-------+--------+-------+--------+--------+---------+---------------+\n",
            "\n"
          ],
          "name": "stdout"
        }
      ]
    },
    {
      "cell_type": "code",
      "metadata": {
        "id": "qS7DtxENfyLk",
        "colab_type": "code",
        "colab": {
          "base_uri": "https://localhost:8080/",
          "height": 34
        },
        "outputId": "890bad78-990b-4bec-b066-ce1d75ac340d"
      },
      "source": [
        "dataset = dataset.dropDuplicates()\n",
        "print(\"Count after removing duplicates:\", dataset.count())"
      ],
      "execution_count": 56,
      "outputs": [
        {
          "output_type": "stream",
          "text": [
            "Count after removing duplicates: 51494\n"
          ],
          "name": "stdout"
        }
      ]
    },
    {
      "cell_type": "markdown",
      "metadata": {
        "id": "xIE-5lTMgF3c",
        "colab_type": "text"
      },
      "source": [
        "As we can see the dataset no longer has any malformed, duplicate or missing data. We can now proceed to perform analysis on the same:"
      ]
    },
    {
      "cell_type": "markdown",
      "metadata": {
        "id": "PgdHL9zpes40",
        "colab_type": "text"
      },
      "source": [
        "# **2) Which local_authority has the least number of pubs?**"
      ]
    },
    {
      "cell_type": "code",
      "metadata": {
        "id": "h-Voop_agMGd",
        "colab_type": "code",
        "outputId": "058a350c-36a3-4e1d-d5e1-ec4e4873399c",
        "colab": {
          "base_uri": "https://localhost:8080/",
          "height": 153
        }
      },
      "source": [
        "# Grouping by local_authority and counting number of pubs in each group to then order by the least number of pubs\n",
        "q2 = dataset \\\n",
        "    .groupBy('local_authority') \\\n",
        "    .count() \\\n",
        "    .select(\n",
        "        'local_authority', \\\n",
        "        sf.col(\"count\").alias(\"Number of Pubs\")\n",
        "        ).orderBy('Number of Pubs') \n",
        "\n",
        "q2.show(1) \n",
        "\n",
        "#Alternatively we can use q2.collect()[0] for extracting values."
      ],
      "execution_count": 73,
      "outputs": [
        {
          "output_type": "stream",
          "text": [
            "+---------------+--------------+\n",
            "|local_authority|Number of Pubs|\n",
            "+---------------+--------------+\n",
            "|  Tower Hamlets|             1|\n",
            "+---------------+--------------+\n",
            "only showing top 1 row\n",
            "\n"
          ],
          "name": "stdout"
        },
        {
          "output_type": "execute_result",
          "data": {
            "text/plain": [
              "Row(local_authority='Tower Hamlets', Number of Pubs=1)"
            ]
          },
          "metadata": {
            "tags": []
          },
          "execution_count": 73
        }
      ]
    },
    {
      "cell_type": "markdown",
      "metadata": {
        "id": "56OmtzNIj5Gg",
        "colab_type": "text"
      },
      "source": [
        "# **4) Which Street in England has the highest number of pubs?**"
      ]
    },
    {
      "cell_type": "code",
      "metadata": {
        "id": "xAen48OT6kcU",
        "colab_type": "code",
        "outputId": "60f8d9e5-ade6-4c15-afac-123ec382a5eb",
        "colab": {
          "base_uri": "https://localhost:8080/",
          "height": 136
        }
      },
      "source": [
        "# Splitting the address on ',' and grouping by the street and count. Followed by sorting in descending order to get highest number of pubs for a street.\n",
        "q4 = dataset.select(\n",
        "        sf.split(\"address\", \", \")[0].alias(\"Street in England\")\n",
        "    ).groupBy('Street in England').count().select(\n",
        "        'Street in England', \\\n",
        "        sf.col(\"count\").alias(\"Number of Pubs\")\n",
        "        ).orderBy('Number of Pubs', ascending = False) \n",
        "\n",
        "q4.show(1)"
      ],
      "execution_count": 81,
      "outputs": [
        {
          "output_type": "stream",
          "text": [
            "+-----------------+--------------+\n",
            "|Street in England|Number of Pubs|\n",
            "+-----------------+--------------+\n",
            "|      High Street|           473|\n",
            "+-----------------+--------------+\n",
            "only showing top 1 row\n",
            "\n"
          ],
          "name": "stdout"
        }
      ]
    }
  ]
}